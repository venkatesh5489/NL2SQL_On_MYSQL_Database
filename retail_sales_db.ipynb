{
 "cells": [
  {
   "cell_type": "code",
   "execution_count": 6,
   "id": "cdba1b6d",
   "metadata": {},
   "outputs": [
    {
     "name": "stdout",
     "output_type": "stream",
     "text": [
      "Collecting langchain_experimental\n",
      "  Using cached langchain_experimental-0.3.0-py3-none-any.whl.metadata (1.7 kB)\n",
      "Requirement already satisfied: langchain-community<0.4.0,>=0.3.0 in c:\\users\\venki\\appdata\\local\\packages\\pythonsoftwarefoundation.python.3.11_qbz5n2kfra8p0\\localcache\\local-packages\\python311\\site-packages (from langchain_experimental) (0.3.0)\n",
      "Requirement already satisfied: langchain-core<0.4.0,>=0.3.0 in c:\\users\\venki\\appdata\\local\\packages\\pythonsoftwarefoundation.python.3.11_qbz5n2kfra8p0\\localcache\\local-packages\\python311\\site-packages (from langchain_experimental) (0.3.1)\n",
      "Requirement already satisfied: PyYAML>=5.3 in c:\\users\\venki\\appdata\\local\\packages\\pythonsoftwarefoundation.python.3.11_qbz5n2kfra8p0\\localcache\\local-packages\\python311\\site-packages (from langchain-community<0.4.0,>=0.3.0->langchain_experimental) (6.0.1)\n",
      "Requirement already satisfied: SQLAlchemy<3,>=1.4 in c:\\users\\venki\\appdata\\local\\packages\\pythonsoftwarefoundation.python.3.11_qbz5n2kfra8p0\\localcache\\local-packages\\python311\\site-packages (from langchain-community<0.4.0,>=0.3.0->langchain_experimental) (2.0.31)\n",
      "Requirement already satisfied: aiohttp<4.0.0,>=3.8.3 in c:\\users\\venki\\appdata\\local\\packages\\pythonsoftwarefoundation.python.3.11_qbz5n2kfra8p0\\localcache\\local-packages\\python311\\site-packages (from langchain-community<0.4.0,>=0.3.0->langchain_experimental) (3.10.5)\n",
      "Requirement already satisfied: dataclasses-json<0.7,>=0.5.7 in c:\\users\\venki\\appdata\\local\\packages\\pythonsoftwarefoundation.python.3.11_qbz5n2kfra8p0\\localcache\\local-packages\\python311\\site-packages (from langchain-community<0.4.0,>=0.3.0->langchain_experimental) (0.6.7)\n",
      "Requirement already satisfied: langchain<0.4.0,>=0.3.0 in c:\\users\\venki\\appdata\\local\\packages\\pythonsoftwarefoundation.python.3.11_qbz5n2kfra8p0\\localcache\\local-packages\\python311\\site-packages (from langchain-community<0.4.0,>=0.3.0->langchain_experimental) (0.3.0)\n",
      "Requirement already satisfied: langsmith<0.2.0,>=0.1.112 in c:\\users\\venki\\appdata\\local\\packages\\pythonsoftwarefoundation.python.3.11_qbz5n2kfra8p0\\localcache\\local-packages\\python311\\site-packages (from langchain-community<0.4.0,>=0.3.0->langchain_experimental) (0.1.123)\n",
      "Requirement already satisfied: numpy<2,>=1 in c:\\users\\venki\\appdata\\local\\packages\\pythonsoftwarefoundation.python.3.11_qbz5n2kfra8p0\\localcache\\local-packages\\python311\\site-packages (from langchain-community<0.4.0,>=0.3.0->langchain_experimental) (1.26.4)\n",
      "Requirement already satisfied: pydantic-settings<3.0.0,>=2.4.0 in c:\\users\\venki\\appdata\\local\\packages\\pythonsoftwarefoundation.python.3.11_qbz5n2kfra8p0\\localcache\\local-packages\\python311\\site-packages (from langchain-community<0.4.0,>=0.3.0->langchain_experimental) (2.5.2)\n",
      "Requirement already satisfied: requests<3,>=2 in c:\\users\\venki\\appdata\\local\\packages\\pythonsoftwarefoundation.python.3.11_qbz5n2kfra8p0\\localcache\\local-packages\\python311\\site-packages (from langchain-community<0.4.0,>=0.3.0->langchain_experimental) (2.32.3)\n",
      "Requirement already satisfied: tenacity!=8.4.0,<9.0.0,>=8.1.0 in c:\\users\\venki\\appdata\\local\\packages\\pythonsoftwarefoundation.python.3.11_qbz5n2kfra8p0\\localcache\\local-packages\\python311\\site-packages (from langchain-community<0.4.0,>=0.3.0->langchain_experimental) (8.4.2)\n",
      "Requirement already satisfied: jsonpatch<2.0,>=1.33 in c:\\users\\venki\\appdata\\local\\packages\\pythonsoftwarefoundation.python.3.11_qbz5n2kfra8p0\\localcache\\local-packages\\python311\\site-packages (from langchain-core<0.4.0,>=0.3.0->langchain_experimental) (1.33)\n",
      "Requirement already satisfied: packaging<25,>=23.2 in c:\\users\\venki\\appdata\\local\\packages\\pythonsoftwarefoundation.python.3.11_qbz5n2kfra8p0\\localcache\\local-packages\\python311\\site-packages (from langchain-core<0.4.0,>=0.3.0->langchain_experimental) (24.1)\n",
      "Requirement already satisfied: pydantic<3.0.0,>=2.5.2 in c:\\users\\venki\\appdata\\local\\packages\\pythonsoftwarefoundation.python.3.11_qbz5n2kfra8p0\\localcache\\local-packages\\python311\\site-packages (from langchain-core<0.4.0,>=0.3.0->langchain_experimental) (2.7.4)\n",
      "Requirement already satisfied: typing-extensions>=4.7 in c:\\users\\venki\\appdata\\local\\packages\\pythonsoftwarefoundation.python.3.11_qbz5n2kfra8p0\\localcache\\local-packages\\python311\\site-packages (from langchain-core<0.4.0,>=0.3.0->langchain_experimental) (4.12.2)\n",
      "Requirement already satisfied: aiohappyeyeballs>=2.3.0 in c:\\users\\venki\\appdata\\local\\packages\\pythonsoftwarefoundation.python.3.11_qbz5n2kfra8p0\\localcache\\local-packages\\python311\\site-packages (from aiohttp<4.0.0,>=3.8.3->langchain-community<0.4.0,>=0.3.0->langchain_experimental) (2.4.0)\n",
      "Requirement already satisfied: aiosignal>=1.1.2 in c:\\users\\venki\\appdata\\local\\packages\\pythonsoftwarefoundation.python.3.11_qbz5n2kfra8p0\\localcache\\local-packages\\python311\\site-packages (from aiohttp<4.0.0,>=3.8.3->langchain-community<0.4.0,>=0.3.0->langchain_experimental) (1.3.1)\n",
      "Requirement already satisfied: attrs>=17.3.0 in c:\\users\\venki\\appdata\\local\\packages\\pythonsoftwarefoundation.python.3.11_qbz5n2kfra8p0\\localcache\\local-packages\\python311\\site-packages (from aiohttp<4.0.0,>=3.8.3->langchain-community<0.4.0,>=0.3.0->langchain_experimental) (24.2.0)\n",
      "Requirement already satisfied: frozenlist>=1.1.1 in c:\\users\\venki\\appdata\\local\\packages\\pythonsoftwarefoundation.python.3.11_qbz5n2kfra8p0\\localcache\\local-packages\\python311\\site-packages (from aiohttp<4.0.0,>=3.8.3->langchain-community<0.4.0,>=0.3.0->langchain_experimental) (1.4.1)\n",
      "Requirement already satisfied: multidict<7.0,>=4.5 in c:\\users\\venki\\appdata\\local\\packages\\pythonsoftwarefoundation.python.3.11_qbz5n2kfra8p0\\localcache\\local-packages\\python311\\site-packages (from aiohttp<4.0.0,>=3.8.3->langchain-community<0.4.0,>=0.3.0->langchain_experimental) (6.1.0)\n",
      "Requirement already satisfied: yarl<2.0,>=1.0 in c:\\users\\venki\\appdata\\local\\packages\\pythonsoftwarefoundation.python.3.11_qbz5n2kfra8p0\\localcache\\local-packages\\python311\\site-packages (from aiohttp<4.0.0,>=3.8.3->langchain-community<0.4.0,>=0.3.0->langchain_experimental) (1.11.1)\n",
      "Requirement already satisfied: marshmallow<4.0.0,>=3.18.0 in c:\\users\\venki\\appdata\\local\\packages\\pythonsoftwarefoundation.python.3.11_qbz5n2kfra8p0\\localcache\\local-packages\\python311\\site-packages (from dataclasses-json<0.7,>=0.5.7->langchain-community<0.4.0,>=0.3.0->langchain_experimental) (3.22.0)\n",
      "Requirement already satisfied: typing-inspect<1,>=0.4.0 in c:\\users\\venki\\appdata\\local\\packages\\pythonsoftwarefoundation.python.3.11_qbz5n2kfra8p0\\localcache\\local-packages\\python311\\site-packages (from dataclasses-json<0.7,>=0.5.7->langchain-community<0.4.0,>=0.3.0->langchain_experimental) (0.9.0)\n",
      "Requirement already satisfied: jsonpointer>=1.9 in c:\\users\\venki\\appdata\\local\\packages\\pythonsoftwarefoundation.python.3.11_qbz5n2kfra8p0\\localcache\\local-packages\\python311\\site-packages (from jsonpatch<2.0,>=1.33->langchain-core<0.4.0,>=0.3.0->langchain_experimental) (3.0.0)\n",
      "Requirement already satisfied: langchain-text-splitters<0.4.0,>=0.3.0 in c:\\users\\venki\\appdata\\local\\packages\\pythonsoftwarefoundation.python.3.11_qbz5n2kfra8p0\\localcache\\local-packages\\python311\\site-packages (from langchain<0.4.0,>=0.3.0->langchain-community<0.4.0,>=0.3.0->langchain_experimental) (0.3.0)\n",
      "Requirement already satisfied: httpx<1,>=0.23.0 in c:\\users\\venki\\appdata\\local\\packages\\pythonsoftwarefoundation.python.3.11_qbz5n2kfra8p0\\localcache\\local-packages\\python311\\site-packages (from langsmith<0.2.0,>=0.1.112->langchain-community<0.4.0,>=0.3.0->langchain_experimental) (0.27.0)\n",
      "Requirement already satisfied: orjson<4.0.0,>=3.9.14 in c:\\users\\venki\\appdata\\local\\packages\\pythonsoftwarefoundation.python.3.11_qbz5n2kfra8p0\\localcache\\local-packages\\python311\\site-packages (from langsmith<0.2.0,>=0.1.112->langchain-community<0.4.0,>=0.3.0->langchain_experimental) (3.10.5)\n",
      "Requirement already satisfied: annotated-types>=0.4.0 in c:\\users\\venki\\appdata\\local\\packages\\pythonsoftwarefoundation.python.3.11_qbz5n2kfra8p0\\localcache\\local-packages\\python311\\site-packages (from pydantic<3.0.0,>=2.5.2->langchain-core<0.4.0,>=0.3.0->langchain_experimental) (0.7.0)\n",
      "Requirement already satisfied: pydantic-core==2.18.4 in c:\\users\\venki\\appdata\\local\\packages\\pythonsoftwarefoundation.python.3.11_qbz5n2kfra8p0\\localcache\\local-packages\\python311\\site-packages (from pydantic<3.0.0,>=2.5.2->langchain-core<0.4.0,>=0.3.0->langchain_experimental) (2.18.4)\n",
      "Requirement already satisfied: python-dotenv>=0.21.0 in c:\\users\\venki\\appdata\\local\\packages\\pythonsoftwarefoundation.python.3.11_qbz5n2kfra8p0\\localcache\\local-packages\\python311\\site-packages (from pydantic-settings<3.0.0,>=2.4.0->langchain-community<0.4.0,>=0.3.0->langchain_experimental) (1.0.1)\n",
      "Requirement already satisfied: charset-normalizer<4,>=2 in c:\\users\\venki\\appdata\\local\\packages\\pythonsoftwarefoundation.python.3.11_qbz5n2kfra8p0\\localcache\\local-packages\\python311\\site-packages (from requests<3,>=2->langchain-community<0.4.0,>=0.3.0->langchain_experimental) (3.3.2)\n",
      "Requirement already satisfied: idna<4,>=2.5 in c:\\users\\venki\\appdata\\local\\packages\\pythonsoftwarefoundation.python.3.11_qbz5n2kfra8p0\\localcache\\local-packages\\python311\\site-packages (from requests<3,>=2->langchain-community<0.4.0,>=0.3.0->langchain_experimental) (3.7)\n",
      "Requirement already satisfied: urllib3<3,>=1.21.1 in c:\\users\\venki\\appdata\\local\\packages\\pythonsoftwarefoundation.python.3.11_qbz5n2kfra8p0\\localcache\\local-packages\\python311\\site-packages (from requests<3,>=2->langchain-community<0.4.0,>=0.3.0->langchain_experimental) (2.2.2)\n",
      "Requirement already satisfied: certifi>=2017.4.17 in c:\\users\\venki\\appdata\\local\\packages\\pythonsoftwarefoundation.python.3.11_qbz5n2kfra8p0\\localcache\\local-packages\\python311\\site-packages (from requests<3,>=2->langchain-community<0.4.0,>=0.3.0->langchain_experimental) (2024.6.2)\n",
      "Requirement already satisfied: greenlet!=0.4.17 in c:\\users\\venki\\appdata\\local\\packages\\pythonsoftwarefoundation.python.3.11_qbz5n2kfra8p0\\localcache\\local-packages\\python311\\site-packages (from SQLAlchemy<3,>=1.4->langchain-community<0.4.0,>=0.3.0->langchain_experimental) (3.0.3)\n",
      "Requirement already satisfied: anyio in c:\\users\\venki\\appdata\\local\\packages\\pythonsoftwarefoundation.python.3.11_qbz5n2kfra8p0\\localcache\\local-packages\\python311\\site-packages (from httpx<1,>=0.23.0->langsmith<0.2.0,>=0.1.112->langchain-community<0.4.0,>=0.3.0->langchain_experimental) (4.4.0)\n",
      "Requirement already satisfied: httpcore==1.* in c:\\users\\venki\\appdata\\local\\packages\\pythonsoftwarefoundation.python.3.11_qbz5n2kfra8p0\\localcache\\local-packages\\python311\\site-packages (from httpx<1,>=0.23.0->langsmith<0.2.0,>=0.1.112->langchain-community<0.4.0,>=0.3.0->langchain_experimental) (1.0.5)\n",
      "Requirement already satisfied: sniffio in c:\\users\\venki\\appdata\\local\\packages\\pythonsoftwarefoundation.python.3.11_qbz5n2kfra8p0\\localcache\\local-packages\\python311\\site-packages (from httpx<1,>=0.23.0->langsmith<0.2.0,>=0.1.112->langchain-community<0.4.0,>=0.3.0->langchain_experimental) (1.3.1)\n",
      "Requirement already satisfied: h11<0.15,>=0.13 in c:\\users\\venki\\appdata\\local\\packages\\pythonsoftwarefoundation.python.3.11_qbz5n2kfra8p0\\localcache\\local-packages\\python311\\site-packages (from httpcore==1.*->httpx<1,>=0.23.0->langsmith<0.2.0,>=0.1.112->langchain-community<0.4.0,>=0.3.0->langchain_experimental) (0.14.0)\n",
      "Requirement already satisfied: mypy-extensions>=0.3.0 in c:\\users\\venki\\appdata\\local\\packages\\pythonsoftwarefoundation.python.3.11_qbz5n2kfra8p0\\localcache\\local-packages\\python311\\site-packages (from typing-inspect<1,>=0.4.0->dataclasses-json<0.7,>=0.5.7->langchain-community<0.4.0,>=0.3.0->langchain_experimental) (1.0.0)\n",
      "Using cached langchain_experimental-0.3.0-py3-none-any.whl (206 kB)\n",
      "Installing collected packages: langchain_experimental\n",
      "Successfully installed langchain_experimental-0.3.0\n",
      "Note: you may need to restart the kernel to use updated packages.\n"
     ]
    },
    {
     "name": "stderr",
     "output_type": "stream",
     "text": [
      "\n",
      "[notice] A new release of pip is available: 24.0 -> 24.2\n",
      "[notice] To update, run: C:\\Users\\venki\\AppData\\Local\\Microsoft\\WindowsApps\\PythonSoftwareFoundation.Python.3.11_qbz5n2kfra8p0\\python.exe -m pip install --upgrade pip\n"
     ]
    }
   ],
   "source": [
    "pip install langchain_experimental"
   ]
  },
  {
   "cell_type": "code",
   "execution_count": 9,
   "id": "915e4314",
   "metadata": {},
   "outputs": [
    {
     "name": "stdout",
     "output_type": "stream",
     "text": [
      "Collecting pymysql\n",
      "  Downloading PyMySQL-1.1.1-py3-none-any.whl.metadata (4.4 kB)\n",
      "Downloading PyMySQL-1.1.1-py3-none-any.whl (44 kB)\n",
      "   ---------------------------------------- 0.0/45.0 kB ? eta -:--:--\n",
      "   --------- ------------------------------ 10.2/45.0 kB ? eta -:--:--\n",
      "   --------------------------- ------------ 30.7/45.0 kB 435.7 kB/s eta 0:00:01\n",
      "   ---------------------------------------- 45.0/45.0 kB 369.5 kB/s eta 0:00:00\n",
      "Installing collected packages: pymysql\n",
      "Successfully installed pymysql-1.1.1\n",
      "Note: you may need to restart the kernel to use updated packages.\n"
     ]
    },
    {
     "name": "stderr",
     "output_type": "stream",
     "text": [
      "\n",
      "[notice] A new release of pip is available: 24.0 -> 24.2\n",
      "[notice] To update, run: C:\\Users\\venki\\AppData\\Local\\Microsoft\\WindowsApps\\PythonSoftwareFoundation.Python.3.11_qbz5n2kfra8p0\\python.exe -m pip install --upgrade pip\n"
     ]
    }
   ],
   "source": [
    "pip install pymysql"
   ]
  },
  {
   "cell_type": "code",
   "execution_count": 1,
   "id": "98810361-714c-4b3c-ad20-2a57f9e9a713",
   "metadata": {},
   "outputs": [
    {
     "name": "stderr",
     "output_type": "stream",
     "text": [
      "C:\\Users\\venki\\AppData\\Local\\Packages\\PythonSoftwareFoundation.Python.3.11_qbz5n2kfra8p0\\LocalCache\\local-packages\\Python311\\site-packages\\tqdm\\auto.py:21: TqdmWarning: IProgress not found. Please update jupyter and ipywidgets. See https://ipywidgets.readthedocs.io/en/stable/user_install.html\n",
      "  from .autonotebook import tqdm as notebook_tqdm\n"
     ]
    }
   ],
   "source": [
    "from langchain_google_genai import GoogleGenerativeAI\n",
    "\n",
    "import os\n",
    "from dotenv import load_dotenv\n",
    "load_dotenv() \n",
    "\n",
    "#llm = GoogleGenerativeAI(model=\"models/text-bison-001\", google_api_key=os.environ[\"GOOGLE_API_KEY\"])\n",
    "llm = GoogleGenerativeAI(model=\"gemini-1.5-flash\", google_api_key=os.environ[\"GOOGLE_API_KEY\"])"
   ]
  },
  {
   "cell_type": "code",
   "execution_count": 2,
   "id": "9f89ffac-4715-4162-9e6c-2d366a9fb762",
   "metadata": {},
   "outputs": [
    {
     "name": "stderr",
     "output_type": "stream",
     "text": [
      "C:\\Users\\venki\\AppData\\Local\\Temp\\ipykernel_28388\\2314878354.py:1: LangChainDeprecationWarning: The method `BaseLLM.__call__` was deprecated in langchain-core 0.1.7 and will be removed in 1.0. Use invoke instead.\n",
      "  print(llm(\"write few lines on langchain and Generative AI\"))\n"
     ]
    },
    {
     "name": "stdout",
     "output_type": "stream",
     "text": [
      "LangChain is a powerful framework that bridges the gap between language models and real-world data. It empowers developers to build applications that seamlessly combine the power of Generative AI with external information sources, databases, and APIs. This results in more comprehensive and intelligent applications that can access and process real-world data, making them truly context-aware. \n",
      "\n"
     ]
    }
   ],
   "source": [
    "print(llm(\"write few lines on langchain and Generative AI\"))"
   ]
  },
  {
   "cell_type": "markdown",
   "id": "e0c0d700",
   "metadata": {},
   "source": [
    "#### Connect with database and ask some basic questions"
   ]
  },
  {
   "cell_type": "code",
   "execution_count": 7,
   "id": "f48fbb53",
   "metadata": {},
   "outputs": [],
   "source": [
    "\n",
    "from langchain_community.utilities import SQLDatabase\n",
    "from langchain_experimental.sql import SQLDatabaseChain\n",
    "\n",
    "from langchain.utilities import SQLDatabase\n"
   ]
  },
  {
   "cell_type": "code",
   "execution_count": 10,
   "id": "23f9ae16",
   "metadata": {},
   "outputs": [
    {
     "name": "stdout",
     "output_type": "stream",
     "text": [
      "\n",
      "CREATE TABLE sales_tb (\n",
      "\t`TransactionID` INTEGER, \n",
      "\t`Date` DATE, \n",
      "\t`CustomerID` VARCHAR(10), \n",
      "\t`Gender` VARCHAR(10), \n",
      "\t`Age` INTEGER, \n",
      "\t`ProductCategory` VARCHAR(50), \n",
      "\t`Quantity` INTEGER, \n",
      "\t`PriceperUnit` DECIMAL(10, 2), \n",
      "\t`TotalAmount` DECIMAL(10, 2)\n",
      ")COLLATE utf8mb4_0900_ai_ci ENGINE=InnoDB DEFAULT CHARSET=utf8mb4\n",
      "\n",
      "/*\n",
      "3 rows from sales_tb table:\n",
      "TransactionID\tDate\tCustomerID\tGender\tAge\tProductCategory\tQuantity\tPriceperUnit\tTotalAmount\n",
      "1\t2023-11-24\tCUST001\tMale\t34\tBeauty\t3\t50.00\t150.00\n",
      "2\t2023-02-27\tCUST002\tFemale\t26\tClothing\t2\t500.00\t1000.00\n",
      "3\t2023-01-13\tCUST003\tMale\t50\tElectronics\t1\t30.00\t30.00\n",
      "*/\n"
     ]
    }
   ],
   "source": [
    "db_user = \"root\"\n",
    "db_password = \"123456\"\n",
    "db_host = \"localhost\"\n",
    "db_name = \"retail_sales_db\"\n",
    "\n",
    "db = SQLDatabase.from_uri(f\"mysql+pymysql://{db_user}:{db_password}@{db_host}/{db_name}\",sample_rows_in_table_info=3)\n",
    "\n",
    "\n",
    "print(db.table_info)"
   ]
  },
  {
   "cell_type": "code",
   "execution_count": 41,
   "id": "25a66c96-46c5-4399-875b-51dfa2f3abc0",
   "metadata": {},
   "outputs": [
    {
     "data": {
      "text/plain": [
       "'Question: How many unique customers are there for each product category\\nSQLQuery: SELECT `ProductCategory`, COUNT(DISTINCT `CustomerID`) AS `Unique Customers` FROM `sales_tb` GROUP BY `ProductCategory`'"
      ]
     },
     "execution_count": 41,
     "metadata": {},
     "output_type": "execute_result"
    }
   ],
   "source": [
    "#Convert question to SQL query\n",
    "from langchain.chains import create_sql_query_chain\n",
    "\n",
    "chain = create_sql_query_chain(llm, db)\n",
    "response = chain.invoke({\"question\": \"How many unique customers are there for each product category\"})\n",
    "response"
   ]
  },
  {
   "cell_type": "code",
   "execution_count": 42,
   "id": "529ac714-f926-4627-826d-16de9830aa5e",
   "metadata": {},
   "outputs": [
    {
     "name": "stdout",
     "output_type": "stream",
     "text": [
      "SELECT `ProductCategory`, COUNT(DISTINCT `CustomerID`) AS `Unique Customers` FROM `sales_tb` GROUP BY `ProductCategory`\n"
     ]
    }
   ],
   "source": [
    "\n",
    "# Extracting the SQL query part from the response\n",
    "cleaned_query = response.split('SQLQuery: ')[1].strip()\n",
    "print(cleaned_query)\n"
   ]
  },
  {
   "cell_type": "code",
   "execution_count": 43,
   "id": "6f76527d-119a-4062-bdb1-d768d5707be3",
   "metadata": {},
   "outputs": [
    {
     "name": "stdout",
     "output_type": "stream",
     "text": [
      "[('Beauty', 8), ('Clothing', 13), ('Electronics', 8)]\n"
     ]
    }
   ],
   "source": [
    "# Execute the cleaned query\n",
    "result = db.run(cleaned_query)\n",
    "print(result)"
   ]
  },
  {
   "cell_type": "code",
   "execution_count": null,
   "id": "2825fc41-87c9-43d3-a4a0-9074e0dc2667",
   "metadata": {},
   "outputs": [],
   "source": []
  },
  {
   "cell_type": "code",
   "execution_count": 44,
   "id": "573e95b9-eb69-46e0-918b-62e114e6f0c0",
   "metadata": {},
   "outputs": [],
   "source": [
    "def execute_query(question, chain, db):\n",
    "    # Generate the SQL query based on the question\n",
    "    response = chain.invoke({\"question\": question})\n",
    "    \n",
    "    # Extract the SQL query part from the response\n",
    "    cleaned_query = response.split('SQLQuery: ')[1].strip()\n",
    "    \n",
    "    # Execute the cleaned query\n",
    "    result = db.run(cleaned_query)\n",
    "    \n",
    "    return result\n",
    "\n"
   ]
  },
  {
   "cell_type": "code",
   "execution_count": 49,
   "id": "2695e85e",
   "metadata": {},
   "outputs": [
    {
     "name": "stdout",
     "output_type": "stream",
     "text": [
      "[('Beauty', 8), ('Clothing', 13), ('Electronics', 8)]\n"
     ]
    }
   ],
   "source": [
    "question0 = \"How many unique customers are there for each product category\"\n",
    "result = execute_query(question0, chain, db)\n",
    "\n",
    "# Print the result\n",
    "print(result)"
   ]
  },
  {
   "cell_type": "code",
   "execution_count": 55,
   "id": "29ca3b54-d1ed-428f-a03c-9c337f41926e",
   "metadata": {},
   "outputs": [
    {
     "name": "stdout",
     "output_type": "stream",
     "text": [
      "[('Beauty', 8), ('Clothing', 13), ('Electronics', 8)]\n"
     ]
    }
   ],
   "source": [
    "question = \"How many unique customers are there for each product category\"\n",
    "result=execute_query(question, chain, db)\n",
    "\n",
    "print(result)"
   ]
  },
  {
   "cell_type": "code",
   "execution_count": 48,
   "id": "aeda3451-5fc1-462b-8873-c09cc2401239",
   "metadata": {},
   "outputs": [
    {
     "data": {
      "text/plain": [
       "\"[('Beauty', Decimal('1455.00')), ('Clothing', Decimal('5040.00')), ('Electronics', Decimal('5310.00'))]\""
      ]
     },
     "execution_count": 48,
     "metadata": {},
     "output_type": "execute_result"
    }
   ],
   "source": [
    "question2 = \"Calculate total sales amount per product category:\"\n",
    "execute_query(question2, chain, db)"
   ]
  },
  {
   "cell_type": "code",
   "execution_count": 50,
   "id": "bc3ced61-e47e-47c1-b934-4cee3823219f",
   "metadata": {},
   "outputs": [
    {
     "data": {
      "text/plain": [
       "\"[('Male', Decimal('35.2143')), ('Female', Decimal('43.3333'))]\""
      ]
     },
     "execution_count": 50,
     "metadata": {},
     "output_type": "execute_result"
    }
   ],
   "source": [
    "question3 = \"calculates the average age of customers grouped by gender.\"\n",
    "execute_query(question3, chain, db)"
   ]
  },
  {
   "cell_type": "code",
   "execution_count": 51,
   "id": "52d613ed",
   "metadata": {},
   "outputs": [
    {
     "data": {
      "text/plain": [
       "\"[('CUST015', Decimal('2000.00')), ('CUST013', Decimal('1500.00')), ('CUST016', Decimal('1500.00')), ('CUST002', Decimal('1000.00')), ('CUST026', Decimal('1000.00'))]\""
      ]
     },
     "execution_count": 51,
     "metadata": {},
     "output_type": "execute_result"
    }
   ],
   "source": [
    "question4 = \"identify the top spending customers based on their total amount spent.\"\n",
    "execute_query(question4, chain, db)"
   ]
  },
  {
   "cell_type": "code",
   "execution_count": 53,
   "id": "7da6c762",
   "metadata": {},
   "outputs": [
    {
     "data": {
      "text/plain": [
       "'[(datetime.date(2023, 1, 13), 1), (datetime.date(2023, 1, 14), 1), (datetime.date(2023, 1, 16), 1), (datetime.date(2023, 1, 17), 1), (datetime.date(2023, 2, 14), 1)]'"
      ]
     },
     "execution_count": 53,
     "metadata": {},
     "output_type": "execute_result"
    }
   ],
   "source": [
    "question5 = \"counts the number of transactions made each month.\"\n",
    "execute_query(question5, chain, db)"
   ]
  },
  {
   "cell_type": "code",
   "execution_count": 54,
   "id": "c45b1a6d-c06b-461a-a407-50c7c43b019e",
   "metadata": {},
   "outputs": [
    {
     "data": {
      "text/plain": [
       "\"[('Beauty', Decimal('1455.00'), Decimal('153.750000')), ('Clothing', Decimal('5040.00'), Decimal('183.461538')), ('Electronics', Decimal('5310.00'), Decimal('238.750000'))]\""
      ]
     },
     "execution_count": 54,
     "metadata": {},
     "output_type": "execute_result"
    }
   ],
   "source": [
    "question6 = \"calculates the total sales amount and average price per unit for each product category.\"\n",
    "execute_query(question6, chain, db)"
   ]
  },
  {
   "cell_type": "code",
   "execution_count": null,
   "id": "730d4d9c-1539-4442-af35-4b60a3ebc041",
   "metadata": {},
   "outputs": [],
   "source": []
  }
 ],
 "metadata": {
  "kernelspec": {
   "display_name": "Python 3 (ipykernel)",
   "language": "python",
   "name": "python3"
  },
  "language_info": {
   "codemirror_mode": {
    "name": "ipython",
    "version": 3
   },
   "file_extension": ".py",
   "mimetype": "text/x-python",
   "name": "python",
   "nbconvert_exporter": "python",
   "pygments_lexer": "ipython3",
   "version": "3.11.9"
  }
 },
 "nbformat": 4,
 "nbformat_minor": 5
}
